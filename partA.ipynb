{
 "cells": [
  {
   "cell_type": "code",
   "execution_count": null,
   "metadata": {},
   "outputs": [
    {
     "ename": "ImportError",
     "evalue": "cannot import name 'preprocess_input' from 'tensorflow.keras.applications' (c:\\Users\\islas\\OneDrive\\Documents\\GitHub\\deep_learning_proj\\.conda\\Lib\\site-packages\\keras\\_tf_keras\\keras\\applications\\__init__.py)",
     "output_type": "error",
     "traceback": [
      "\u001b[1;31m---------------------------------------------------------------------------\u001b[0m",
      "\u001b[1;31mImportError\u001b[0m                               Traceback (most recent call last)",
      "Cell \u001b[1;32mIn[11], line 8\u001b[0m\n\u001b[0;32m      6\u001b[0m \u001b[38;5;28;01mfrom\u001b[39;00m \u001b[38;5;21;01mtensorflow\u001b[39;00m\u001b[38;5;21;01m.\u001b[39;00m\u001b[38;5;21;01mkeras\u001b[39;00m\u001b[38;5;21;01m.\u001b[39;00m\u001b[38;5;21;01mpreprocessing\u001b[39;00m\u001b[38;5;21;01m.\u001b[39;00m\u001b[38;5;21;01mimage\u001b[39;00m \u001b[38;5;28;01mimport\u001b[39;00m ImageDataGenerator\n\u001b[0;32m      7\u001b[0m \u001b[38;5;28;01mfrom\u001b[39;00m \u001b[38;5;21;01mtensorflow\u001b[39;00m\u001b[38;5;21;01m.\u001b[39;00m\u001b[38;5;21;01mkeras\u001b[39;00m\u001b[38;5;21;01m.\u001b[39;00m\u001b[38;5;21;01mutils\u001b[39;00m \u001b[38;5;28;01mimport\u001b[39;00m to_categorical\n\u001b[1;32m----> 8\u001b[0m \u001b[38;5;28;01mfrom\u001b[39;00m \u001b[38;5;21;01mtensorflow\u001b[39;00m\u001b[38;5;21;01m.\u001b[39;00m\u001b[38;5;21;01mkeras\u001b[39;00m\u001b[38;5;21;01m.\u001b[39;00m\u001b[38;5;21;01mapplications\u001b[39;00m \u001b[38;5;28;01mimport\u001b[39;00m preprocess_input\n\u001b[0;32m      9\u001b[0m \u001b[38;5;28;01mimport\u001b[39;00m \u001b[38;5;21;01mcv2\u001b[39;00m\n\u001b[0;32m     11\u001b[0m \u001b[38;5;66;03m# Paths\u001b[39;00m\n",
      "\u001b[1;31mImportError\u001b[0m: cannot import name 'preprocess_input' from 'tensorflow.keras.applications' (c:\\Users\\islas\\OneDrive\\Documents\\GitHub\\deep_learning_proj\\.conda\\Lib\\site-packages\\keras\\_tf_keras\\keras\\applications\\__init__.py)"
     ]
    }
   ],
   "source": [
    "import os\n",
    "import numpy as np\n",
    "import pandas as pd\n",
    "import matplotlib.pyplot as plt\n",
    "from sklearn.model_selection import train_test_split\n",
    "from tensorflow.keras.preprocessing.image import ImageDataGenerator\n",
    "from tensorflow.keras.utils import to_categorical\n",
    "from tensorflow.keras.applications import preprocess_input\n",
    "import cv2\n",
    "\n",
    "\n",
    "data_path = \"./Database\"\n",
    "image_path = os.path.join(data_path, \"Image\")\n",
    "label_file = os.path.join(data_path, \"Label.txt\")\n",
    "\n",
    "\n",
    "def load_labels(label_path):\n",
    "    labels = pd.read_csv(label_path, sep=\"\\t\", header=None, names=[\"Image\", \"Pitch\", \"Roll\", \"Depth\"])\n",
    "    return labels\n",
    "\n",
    "\n",
    "def load_images(labels_df, image_folder):\n",
    "    images = []\n",
    "    labels = []\n",
    "    \n",
    "    for _, row in labels_df.iterrows():\n",
    "        img_file = os.path.join(image_folder, row[\"Image\"])\n",
    "        if os.path.exists(img_file):\n",
    "            img = cv2.imread(img_file)\n",
    "            img = cv2.cvtColor(img, cv2.COLOR_BGR2RGB)\n",
    "            img = cv2.resize(img, (224, 224))  \n",
    "            images.append(img)\n",
    "            labels.append(row[1:].values)  \n",
    "        \n",
    "    return np.array(images), np.array(labels)\n",
    "\n",
    "\n",
    "labels_df = load_labels(label_file)\n",
    "images, labels = load_images(labels_df, image_path)\n",
    "\n",
    "\n",
    "images = images / 255.0\n",
    "\n",
    "\n",
    "X = images\n",
    "y_pose = labels[:, :2]  \n",
    "y_depth = labels[:, 2]  \n",
    "\n",
    "\n",
    "y_pose_class = to_categorical(y_pose)\n",
    "\n",
    "\n",
    "X_train, X_temp, y_train_pose, y_temp_pose, y_train_depth, y_temp_depth = train_test_split(\n",
    "    X, y_pose_class, y_depth, test_size=0.3, random_state=42)\n",
    "\n",
    "X_val, X_test, y_val_pose, y_test_pose, y_val_depth, y_test_depth = train_test_split(\n",
    "    X_temp, y_temp_pose, y_temp_depth, test_size=0.5, random_state=42)\n"
   ]
  },
  {
   "cell_type": "code",
   "execution_count": 3,
   "metadata": {},
   "outputs": [],
   "source": [
    "def create_cnn(input_shape, num_classes=None, task_type='classification'):\n",
    "    model = Sequential([\n",
    "        Conv2D(32, (3, 3), activation='relu', input_shape=input_shape),\n",
    "        MaxPooling2D((2, 2)),\n",
    "        Conv2D(64, (3, 3), activation='relu'),\n",
    "        MaxPooling2D((2, 2)),\n",
    "        Conv2D(128, (3, 3), activation='relu'),\n",
    "        MaxPooling2D((2, 2)),\n",
    "        Flatten(),\n",
    "        Dense(256, activation='relu'),\n",
    "        Dropout(0.5),\n",
    "    ])\n",
    "    \n",
    "    if task_type == 'classification':\n",
    "        model.add(Dense(num_classes, activation='softmax'))\n",
    "        model.compile(optimizer='adam', loss='categorical_crossentropy', metrics=['accuracy'])\n",
    "    else:\n",
    "        model.add(Dense(1, activation='linear'))\n",
    "        model.compile(optimizer='adam', loss='mse', metrics=['mse'])\n",
    "    \n",
    "    return model\n",
    "\n"
   ]
  },
  {
   "cell_type": "code",
   "execution_count": 4,
   "metadata": {},
   "outputs": [],
   "source": [
    "def create_lenet(input_shape, num_classes=None, task_type='classification'):\n",
    "    model = Sequential([\n",
    "        Conv2D(6, (5, 5), activation='tanh', input_shape=input_shape),\n",
    "        MaxPooling2D((2, 2)),\n",
    "        Conv2D(16, (5, 5), activation='tanh'),\n",
    "        MaxPooling2D((2, 2)),\n",
    "        Flatten(),\n",
    "        Dense(120, activation='tanh'),\n",
    "        Dense(84, activation='tanh'),\n",
    "    ])\n",
    "    \n",
    "    if task_type == 'classification':\n",
    "        model.add(Dense(num_classes, activation='softmax'))\n",
    "        model.compile(optimizer='adam', loss='categorical_crossentropy', metrics=['accuracy'])\n",
    "    else:\n",
    "        model.add(Dense(1, activation='linear'))\n",
    "        model.compile(optimizer='adam', loss='mse', metrics=['mse'])\n",
    "    \n",
    "    return model\n"
   ]
  },
  {
   "cell_type": "code",
   "execution_count": 5,
   "metadata": {},
   "outputs": [],
   "source": [
    "from tensorflow.keras.applications import ResNet50\n",
    "from tensorflow.keras.layers import GlobalAveragePooling2D, Dense, Dropout\n",
    "from tensorflow.keras.models import Model\n",
    "\n",
    "def create_resnet(input_shape, num_classes=None, task_type='classification'):\n",
    "    base_model = ResNet50(include_top=False, weights='imagenet', input_shape=input_shape)\n",
    "    x = GlobalAveragePooling2D()(base_model.output)\n",
    "    x = Dense(256, activation='relu')(x)\n",
    "    x = Dropout(0.5)(x)\n",
    "    \n",
    "    if task_type == 'classification':\n",
    "        outputs = Dense(num_classes, activation='softmax')(x)\n",
    "        model = Model(inputs=base_model.input, outputs=outputs)\n",
    "        model.compile(optimizer='adam', loss='categorical_crossentropy', metrics=['accuracy'])\n",
    "    else:\n",
    "        outputs = Dense(1, activation='linear')(x)\n",
    "        model = Model(inputs=base_model.input, outputs=outputs)\n",
    "        model.compile(optimizer='adam', loss='mse', metrics=['mse'])\n",
    "    \n",
    "    return model\n"
   ]
  },
  {
   "cell_type": "code",
   "execution_count": 6,
   "metadata": {},
   "outputs": [
    {
     "ename": "NameError",
     "evalue": "name 'y_pose_class' is not defined",
     "output_type": "error",
     "traceback": [
      "\u001b[1;31m---------------------------------------------------------------------------\u001b[0m",
      "\u001b[1;31mNameError\u001b[0m                                 Traceback (most recent call last)",
      "Cell \u001b[1;32mIn[6], line 3\u001b[0m\n\u001b[0;32m      1\u001b[0m \u001b[38;5;66;03m# Input shape and number of classes\u001b[39;00m\n\u001b[0;32m      2\u001b[0m input_shape \u001b[38;5;241m=\u001b[39m (\u001b[38;5;241m224\u001b[39m, \u001b[38;5;241m224\u001b[39m, \u001b[38;5;241m3\u001b[39m)\n\u001b[1;32m----> 3\u001b[0m num_classes \u001b[38;5;241m=\u001b[39m \u001b[43my_pose_class\u001b[49m\u001b[38;5;241m.\u001b[39mshape[\u001b[38;5;241m1\u001b[39m]\n\u001b[0;32m      5\u001b[0m \u001b[38;5;66;03m# Train CNN Model\u001b[39;00m\n\u001b[0;32m      6\u001b[0m cnn_pose_model \u001b[38;5;241m=\u001b[39m create_cnn(input_shape, num_classes, task_type\u001b[38;5;241m=\u001b[39m\u001b[38;5;124m'\u001b[39m\u001b[38;5;124mclassification\u001b[39m\u001b[38;5;124m'\u001b[39m)\n",
      "\u001b[1;31mNameError\u001b[0m: name 'y_pose_class' is not defined"
     ]
    }
   ],
   "source": [
    "\n",
    "input_shape = (224, 224, 3)\n",
    "num_classes = y_pose_class.shape[1]\n",
    "\n",
    "\n",
    "cnn_pose_model = create_cnn(input_shape, num_classes, task_type='classification')\n",
    "cnn_pose_model.fit(X_train, y_train_pose, validation_data=(X_val, y_val_pose), epochs=10, batch_size=32)\n",
    "\n",
    "\n",
    "lenet_pose_model = create_lenet(input_shape, num_classes, task_type='classification')\n",
    "lenet_pose_model.fit(X_train, y_train_pose, validation_data=(X_val, y_val_pose), epochs=10, batch_size=32)\n",
    "\n",
    "\n",
    "resnet_pose_model = create_resnet(input_shape, num_classes, task_type='classification')\n",
    "resnet_pose_model.fit(X_train, y_train_pose, validation_data=(X_val, y_val_pose), epochs=10, batch_size=32)\n"
   ]
  },
  {
   "cell_type": "code",
   "execution_count": 7,
   "metadata": {},
   "outputs": [
    {
     "ename": "NameError",
     "evalue": "name 'create_cnn' is not defined",
     "output_type": "error",
     "traceback": [
      "\u001b[1;31m---------------------------------------------------------------------------\u001b[0m",
      "\u001b[1;31mNameError\u001b[0m                                 Traceback (most recent call last)",
      "Cell \u001b[1;32mIn[7], line 2\u001b[0m\n\u001b[0;32m      1\u001b[0m \u001b[38;5;66;03m# Train CNN Model\u001b[39;00m\n\u001b[1;32m----> 2\u001b[0m cnn_depth_model \u001b[38;5;241m=\u001b[39m \u001b[43mcreate_cnn\u001b[49m(input_shape, task_type\u001b[38;5;241m=\u001b[39m\u001b[38;5;124m'\u001b[39m\u001b[38;5;124mregression\u001b[39m\u001b[38;5;124m'\u001b[39m)\n\u001b[0;32m      3\u001b[0m cnn_depth_model\u001b[38;5;241m.\u001b[39mfit(X_train, y_train_depth, validation_data\u001b[38;5;241m=\u001b[39m(X_val, y_val_depth), epochs\u001b[38;5;241m=\u001b[39m\u001b[38;5;241m10\u001b[39m, batch_size\u001b[38;5;241m=\u001b[39m\u001b[38;5;241m32\u001b[39m)\n\u001b[0;32m      5\u001b[0m \u001b[38;5;66;03m# Train LeNet Model\u001b[39;00m\n",
      "\u001b[1;31mNameError\u001b[0m: name 'create_cnn' is not defined"
     ]
    }
   ],
   "source": [
    "\n",
    "cnn_depth_model = create_cnn(input_shape, task_type='regression')\n",
    "cnn_depth_model.fit(X_train, y_train_depth, validation_data=(X_val, y_val_depth), epochs=10, batch_size=32)\n",
    "\n",
    "\n",
    "lenet_depth_model = create_lenet(input_shape, task_type='regression')\n",
    "lenet_depth_model.fit(X_train, y_train_depth, validation_data=(X_val, y_val_depth), epochs=10, batch_size=32)\n",
    "\n",
    "\n",
    "resnet_depth_model = create_resnet(input_shape, task_type='regression')\n",
    "resnet_depth_model.fit(X_train, y_train_depth, validation_data=(X_val, y_val_depth), epochs=10, batch_size=32)\n"
   ]
  },
  {
   "cell_type": "code",
   "execution_count": 8,
   "metadata": {},
   "outputs": [
    {
     "ename": "NameError",
     "evalue": "name 'cnn_pose_model' is not defined",
     "output_type": "error",
     "traceback": [
      "\u001b[1;31m---------------------------------------------------------------------------\u001b[0m",
      "\u001b[1;31mNameError\u001b[0m                                 Traceback (most recent call last)",
      "Cell \u001b[1;32mIn[8], line 4\u001b[0m\n\u001b[0;32m      1\u001b[0m \u001b[38;5;28;01mfrom\u001b[39;00m \u001b[38;5;21;01msklearn\u001b[39;00m\u001b[38;5;21;01m.\u001b[39;00m\u001b[38;5;21;01mmetrics\u001b[39;00m \u001b[38;5;28;01mimport\u001b[39;00m classification_report, confusion_matrix\n\u001b[0;32m      3\u001b[0m \u001b[38;5;66;03m# Evaluate CNN Pose Model\u001b[39;00m\n\u001b[1;32m----> 4\u001b[0m pose_preds \u001b[38;5;241m=\u001b[39m np\u001b[38;5;241m.\u001b[39margmax(\u001b[43mcnn_pose_model\u001b[49m\u001b[38;5;241m.\u001b[39mpredict(X_test), axis\u001b[38;5;241m=\u001b[39m\u001b[38;5;241m1\u001b[39m)\n\u001b[0;32m      5\u001b[0m pose_true \u001b[38;5;241m=\u001b[39m np\u001b[38;5;241m.\u001b[39margmax(y_test_pose, axis\u001b[38;5;241m=\u001b[39m\u001b[38;5;241m1\u001b[39m)\n\u001b[0;32m      6\u001b[0m \u001b[38;5;28mprint\u001b[39m(\u001b[38;5;124m\"\u001b[39m\u001b[38;5;124mCNN Pose Classification Report:\u001b[39m\u001b[38;5;124m\"\u001b[39m)\n",
      "\u001b[1;31mNameError\u001b[0m: name 'cnn_pose_model' is not defined"
     ]
    }
   ],
   "source": [
    "from sklearn.metrics import classification_report, confusion_matrix\n",
    "\n",
    "\n",
    "pose_preds = np.argmax(cnn_pose_model.predict(X_test), axis=1)\n",
    "pose_true = np.argmax(y_test_pose, axis=1)\n",
    "print(\"CNN Pose Classification Report:\")\n",
    "print(classification_report(pose_true, pose_preds))\n",
    "\n",
    "\n"
   ]
  },
  {
   "cell_type": "code",
   "execution_count": 9,
   "metadata": {},
   "outputs": [
    {
     "ename": "NameError",
     "evalue": "name 'cnn_depth_model' is not defined",
     "output_type": "error",
     "traceback": [
      "\u001b[1;31m---------------------------------------------------------------------------\u001b[0m",
      "\u001b[1;31mNameError\u001b[0m                                 Traceback (most recent call last)",
      "Cell \u001b[1;32mIn[9], line 4\u001b[0m\n\u001b[0;32m      1\u001b[0m \u001b[38;5;28;01mfrom\u001b[39;00m \u001b[38;5;21;01msklearn\u001b[39;00m\u001b[38;5;21;01m.\u001b[39;00m\u001b[38;5;21;01mmetrics\u001b[39;00m \u001b[38;5;28;01mimport\u001b[39;00m mean_squared_error\n\u001b[0;32m      3\u001b[0m \u001b[38;5;66;03m# Evaluate CNN Depth Model\u001b[39;00m\n\u001b[1;32m----> 4\u001b[0m depth_preds \u001b[38;5;241m=\u001b[39m \u001b[43mcnn_depth_model\u001b[49m\u001b[38;5;241m.\u001b[39mpredict(X_test)\n\u001b[0;32m      5\u001b[0m rmse \u001b[38;5;241m=\u001b[39m np\u001b[38;5;241m.\u001b[39msqrt(mean_squared_error(y_test_depth, depth_preds))\n\u001b[0;32m      6\u001b[0m \u001b[38;5;28mprint\u001b[39m(\u001b[38;5;124mf\u001b[39m\u001b[38;5;124m\"\u001b[39m\u001b[38;5;124mCNN Depth RMSE: \u001b[39m\u001b[38;5;132;01m{\u001b[39;00mrmse\u001b[38;5;132;01m}\u001b[39;00m\u001b[38;5;124m\"\u001b[39m)\n",
      "\u001b[1;31mNameError\u001b[0m: name 'cnn_depth_model' is not defined"
     ]
    }
   ],
   "source": [
    "from sklearn.metrics import mean_squared_error\n",
    "\n",
    "\n",
    "depth_preds = cnn_depth_model.predict(X_test)\n",
    "rmse = np.sqrt(mean_squared_error(y_test_depth, depth_preds))\n",
    "print(f\"CNN Depth RMSE: {rmse}\")\n",
    "\n",
    "\n"
   ]
  },
  {
   "cell_type": "code",
   "execution_count": 10,
   "metadata": {},
   "outputs": [
    {
     "ename": "NameError",
     "evalue": "name 'cnn_pose_acc' is not defined",
     "output_type": "error",
     "traceback": [
      "\u001b[1;31m---------------------------------------------------------------------------\u001b[0m",
      "\u001b[1;31mNameError\u001b[0m                                 Traceback (most recent call last)",
      "Cell \u001b[1;32mIn[10], line 6\u001b[0m\n\u001b[0;32m      1\u001b[0m \u001b[38;5;66;03m# Example comparison table\u001b[39;00m\n\u001b[0;32m      2\u001b[0m \u001b[38;5;28;01mimport\u001b[39;00m \u001b[38;5;21;01mpandas\u001b[39;00m \u001b[38;5;28;01mas\u001b[39;00m \u001b[38;5;21;01mpd\u001b[39;00m\n\u001b[0;32m      4\u001b[0m results \u001b[38;5;241m=\u001b[39m {\n\u001b[0;32m      5\u001b[0m     \u001b[38;5;124m\"\u001b[39m\u001b[38;5;124mModel\u001b[39m\u001b[38;5;124m\"\u001b[39m: [\u001b[38;5;124m\"\u001b[39m\u001b[38;5;124mCNN\u001b[39m\u001b[38;5;124m\"\u001b[39m, \u001b[38;5;124m\"\u001b[39m\u001b[38;5;124mLeNet\u001b[39m\u001b[38;5;124m\"\u001b[39m, \u001b[38;5;124m\"\u001b[39m\u001b[38;5;124mResNet\u001b[39m\u001b[38;5;124m\"\u001b[39m],\n\u001b[1;32m----> 6\u001b[0m     \u001b[38;5;124m\"\u001b[39m\u001b[38;5;124mPose Accuracy\u001b[39m\u001b[38;5;124m\"\u001b[39m: [\u001b[43mcnn_pose_acc\u001b[49m, lenet_pose_acc, resnet_pose_acc],\n\u001b[0;32m      7\u001b[0m     \u001b[38;5;124m\"\u001b[39m\u001b[38;5;124mDepth RMSE\u001b[39m\u001b[38;5;124m\"\u001b[39m: [cnn_depth_rmse, lenet_depth_rmse, resnet_depth_rmse],\n\u001b[0;32m      8\u001b[0m }\n\u001b[0;32m     10\u001b[0m df_results \u001b[38;5;241m=\u001b[39m pd\u001b[38;5;241m.\u001b[39mDataFrame(results)\n\u001b[0;32m     11\u001b[0m \u001b[38;5;28mprint\u001b[39m(df_results)\n",
      "\u001b[1;31mNameError\u001b[0m: name 'cnn_pose_acc' is not defined"
     ]
    }
   ],
   "source": [
    "\n",
    "# import pandas as pd\n",
    "\n",
    "# results = {\n",
    "#     \"Model\": [\"CNN\", \"LeNet\", \"ResNet\"],\n",
    "#     \"Pose Accuracy\": [cnn_pose_acc, lenet_pose_acc, resnet_pose_acc],\n",
    "#     \"Depth RMSE\": [cnn_depth_rmse, lenet_depth_rmse, resnet_depth_rmse],\n",
    "# }\n",
    "\n",
    "# df_results = pd.DataFrame(results)\n",
    "# print(df_results)\n"
   ]
  },
  {
   "cell_type": "code",
   "execution_count": null,
   "metadata": {},
   "outputs": [],
   "source": []
  }
 ],
 "metadata": {
  "kernelspec": {
   "display_name": "Python 3",
   "language": "python",
   "name": "python3"
  },
  "language_info": {
   "codemirror_mode": {
    "name": "ipython",
    "version": 3
   },
   "file_extension": ".py",
   "mimetype": "text/x-python",
   "name": "python",
   "nbconvert_exporter": "python",
   "pygments_lexer": "ipython3",
   "version": "3.12.8"
  }
 },
 "nbformat": 4,
 "nbformat_minor": 2
}
