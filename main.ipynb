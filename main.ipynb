{
 "cells": [
  {
   "cell_type": "code",
   "execution_count": null,
   "metadata": {},
   "outputs": [],
   "source": [
    "import pandas as pd\n",
    "import os\n",
    "import numpy as np\n",
    "import matplotlib.pyplot as plt\n",
    "from PIL import Image, UnidentifiedImageError"
   ]
  },
  {
   "cell_type": "code",
   "execution_count": null,
   "metadata": {},
   "outputs": [
    {
     "name": "stdout",
     "output_type": "stream",
     "text": [
      "Loading Labels...\n",
      "Loaded 54 TXT files from Database_Realtime/IMU\n",
      "Loading Images...\n",
      "Loaded 4806 images from Database_Realtime/Vision/Webcam\n"
     ]
    }
   ],
   "source": [
    "#Data Loading and Structure Understanding (4 Points)\n",
    "\n",
    "#paths...\n",
    "BASE = \"Database_Realtime\"\n",
    "IMU = os.path.join(BASE, \"IMU\")\n",
    "VISION = os.path.join(BASE, \"Vision/Webcam\")\n",
    "\n",
    "\n",
    "#loading data...\n",
    "#labels:\n",
    "def load_labels(base_dir):\n",
    "    txt_data = {}\n",
    "    for root, _, files in os.walk(base_dir):\n",
    "        for file in files:\n",
    "            if file.endswith(\".txt\"):\n",
    "                file_path = os.path.join(root, file)\n",
    "                try:\n",
    "                    with open(file_path, 'r') as f:\n",
    "                        txt_data[file_path] = f.read()\n",
    "                except Exception as e:\n",
    "                    print(f\"Error reading {file_path}: {e}\")\n",
    "    print(f\"Loaded {len(txt_data)} TXT files from {base_dir}\")\n",
    "    return txt_data\n",
    "\n",
    "\n",
    "#images:\n",
    "def load_images(base_dir):\n",
    "    images = []\n",
    "    filenames = []\n",
    "    for root, _, files in os.walk(base_dir):\n",
    "        for file in files:\n",
    "            if file.endswith(\".jpg\") or file.endswith(\".jpeg\") or file.endswith(\".png\"):\n",
    "                file_path = os.path.join(root, file)\n",
    "                try:\n",
    "                    image = Image.open(file_path).convert('RGB') \n",
    "                    images.append(np.array(image))\n",
    "                    filenames.append(file_path)\n",
    "                except UnidentifiedImageError as e:\n",
    "                    print(f\"Error loading image {file_path}: {e}\")\n",
    "    print(f\"Loaded {len(images)} images from {base_dir}\")\n",
    "    return np.array(images), filenames\n",
    "\n",
    "\n",
    "#call funcs\n",
    "print(\"Loading Labels...\")\n",
    "txt_files = load_labels(IMU)\n",
    "\n",
    "print(\"Loading Images...\")\n",
    "images, image_paths = load_images(VISION)\n",
    "\n",
    "\n",
    "\n"
   ]
  },
  {
   "cell_type": "code",
   "execution_count": null,
   "metadata": {},
   "outputs": [],
   "source": [
    "#Exploratory Data Analysis (3 Points)\n",
    "\n",
    "#shapes:\n",
    "print(\"Image shape:\", images.shape)\n",
    "print(\"Labels shape:\", txt_files.shape)\n",
    "\n",
    "\n",
    "#vis:\n",
    "def visualize_samples(images, labels, num_samples=5):\n",
    "    plt.figure(figsize=(10, 5))\n",
    "    for i in range(num_samples):\n",
    "        plt.subplot(1, num_samples, i + 1)\n",
    "        plt.imshow(images[i])\n",
    "        plt.title(f\"Depth: {labels[i][0]}, Pose: {labels[i][1]}\")\n",
    "        plt.axis('off')\n",
    "    plt.tight_layout()\n",
    "    plt.show()\n",
    "\n",
    "visualize_samples(images, txt_files)\n",
    "\n",
    "\n",
    "\n",
    "\n"
   ]
  },
  {
   "cell_type": "code",
   "execution_count": null,
   "metadata": {},
   "outputs": [],
   "source": [
    "#Data Augmentation (Optional: 2 Bonus Points)"
   ]
  },
  {
   "cell_type": "code",
   "execution_count": null,
   "metadata": {},
   "outputs": [],
   "source": [
    "#Normalization and Splitting (3 Points)"
   ]
  }
 ],
 "metadata": {
  "kernelspec": {
   "display_name": "base",
   "language": "python",
   "name": "python3"
  },
  "language_info": {
   "codemirror_mode": {
    "name": "ipython",
    "version": 3
   },
   "file_extension": ".py",
   "mimetype": "text/x-python",
   "name": "python",
   "nbconvert_exporter": "python",
   "pygments_lexer": "ipython3",
   "version": "3.10.9"
  }
 },
 "nbformat": 4,
 "nbformat_minor": 2
}
